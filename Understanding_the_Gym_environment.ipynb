{
  "cells": [
    {
      "cell_type": "code",
      "execution_count": null,
      "metadata": {
        "id": "EIzP22DIhKpv"
      },
      "outputs": [],
      "source": [
        "import numpy as np\n",
        "#import gym\n",
        "import gymnasium as gym\n",
        "import random\n",
        "import matplotlib"
      ]
    },
    {
      "cell_type": "code",
      "execution_count": null,
      "metadata": {
        "colab": {
          "base_uri": "https://localhost:8080/"
        },
        "id": "An1Yw0JkhRbz",
        "outputId": "dec10735-9c27-40fd-a043-e98fe5e9744d"
      },
      "outputs": [],
      "source": [
        "#from gym import envs\n",
        "print('\\n'.join([str(env) for env in gym.envs.registry]))"
      ]
    },
    {
      "cell_type": "code",
      "execution_count": null,
      "metadata": {
        "id": "RJyPmGpAhS7k"
      },
      "outputs": [],
      "source": [
        "env = gym.make('FrozenLake-v1', is_slippery=False, render_mode='human')"
      ]
    },
    {
      "cell_type": "code",
      "execution_count": null,
      "metadata": {
        "colab": {
          "base_uri": "https://localhost:8080/",
          "height": 297
        },
        "id": "Ee7P7pu6hUuT",
        "outputId": "9536eb0b-96a2-402a-d316-eba978c5ebc7"
      },
      "outputs": [],
      "source": [
        "env.reset()"
      ]
    },
    {
      "cell_type": "code",
      "execution_count": null,
      "metadata": {},
      "outputs": [],
      "source": [
        "env.render()"
      ]
    },
    {
      "cell_type": "code",
      "execution_count": null,
      "metadata": {
        "colab": {
          "base_uri": "https://localhost:8080/"
        },
        "id": "L_8YwLvMhWKl",
        "outputId": "b3013ff4-176a-4c1c-f9b0-d85e89e58bab"
      },
      "outputs": [],
      "source": [
        "env.observation_space.n"
      ]
    },
    {
      "cell_type": "code",
      "execution_count": null,
      "metadata": {
        "colab": {
          "base_uri": "https://localhost:8080/"
        },
        "id": "S7uZNx26hf6t",
        "outputId": "517e3080-c5e2-42f7-c6fb-362efd9ea21e"
      },
      "outputs": [],
      "source": [
        "env.action_space.n"
      ]
    },
    {
      "cell_type": "code",
      "execution_count": null,
      "metadata": {
        "colab": {
          "base_uri": "https://localhost:8080/"
        },
        "id": "t-HJmED0hhu1",
        "outputId": "e41bfc6c-1a6a-4f8d-b8ce-2acb9d4da183"
      },
      "outputs": [],
      "source": [
        "env.action_space.sample()"
      ]
    },
    {
      "cell_type": "code",
      "execution_count": null,
      "metadata": {
        "colab": {
          "base_uri": "https://localhost:8080/"
        },
        "id": "rpzKQRk8hj3_",
        "outputId": "61ac71ac-c52b-4a1e-dfdd-639f3df6b2b3"
      },
      "outputs": [],
      "source": [
        "env.reset()"
      ]
    },
    {
      "cell_type": "code",
      "execution_count": null,
      "metadata": {
        "colab": {
          "base_uri": "https://localhost:8080/"
        },
        "id": "xdFkiOSkhpqg",
        "outputId": "92dc26f5-b110-4f97-f378-51781136287b"
      },
      "outputs": [],
      "source": [
        "env.step(env.action_space.sample())"
      ]
    },
    {
      "cell_type": "code",
      "execution_count": null,
      "metadata": {
        "id": "SC0ULMzehrO-"
      },
      "outputs": [],
      "source": []
    }
  ],
  "metadata": {
    "colab": {
      "name": "Understanding_the_Gym_environment.ipynb",
      "provenance": []
    },
    "kernelspec": {
      "display_name": "ReinforcementLearning (3.12.10)",
      "language": "python",
      "name": "python3"
    },
    "language_info": {
      "codemirror_mode": {
        "name": "ipython",
        "version": 3
      },
      "file_extension": ".py",
      "mimetype": "text/x-python",
      "name": "python",
      "nbconvert_exporter": "python",
      "pygments_lexer": "ipython3",
      "version": "3.12.10"
    }
  },
  "nbformat": 4,
  "nbformat_minor": 0
}
